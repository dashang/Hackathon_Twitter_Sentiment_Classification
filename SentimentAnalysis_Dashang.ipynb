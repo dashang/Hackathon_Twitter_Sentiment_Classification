{
 "cells": [
  {
   "cell_type": "markdown",
   "metadata": {},
   "source": [
    "## Hackathon 3 : Sentiment Classification"
   ]
  },
  {
   "cell_type": "markdown",
   "metadata": {},
   "source": [
    "<b>Problem Statement</b>\n",
    "<p>Twitter has now become a useful way to build one's business as it helps in giving the brand a voice and a personality. The platform is also a quick, easy and inexpensive way to gain valuable insight from the desired audience. Identifying the sentiments about the product/brand can help the business take better actions.</p>\n",
    "\n",
    "You have with you evaluated tweets about multiple brands. The evaluators(random audience) were asked if the tweet expressed positive, negative, or no emotion towards a product/brand and labelled accordingly.\n",
    "\n",
    "<b>Dataset Description</b> \n",
    "<p>This dataset contains around 7k tweet text with the sentiment label.\n",
    "\n",
    "The file train.csv has 3 columns\n",
    "\n",
    "tweet_id - Unique id for tweets. tweet - Tweet about the brand/product sentiment - 0: Negative, 1: Neutral, 2: Positive, 3: Can't Tell </p>\n",
    "\n",
    "<b>Evaluation Metric</b> \n",
    "<p> We will be using ‘weighted’ F1-measure as the evaluation metric for this competition. For more information on the F1-metric refer to https://scikit-learn.org/stable/modules/generated/sklearn.metrics.f1_score.html  </p>\n",
    "\n",
    "<b>Submission format</b> \n",
    "<p> Submission file should have two columns, one for tweet_id and sencond for sentiment [0: Negative, 1: Neutral, 2: Positive, 3: Can't Tell]. A sample submission file has also been attached for reference. </p>"
   ]
  },
  {
   "cell_type": "markdown",
   "metadata": {},
   "source": [
    "## Start of Notebook"
   ]
  },
  {
   "cell_type": "markdown",
   "metadata": {},
   "source": [
    "#### Why are we doing this\n",
    "- To Classify the Tweets into positive , neutral , negative, Cant tell\n",
    "- To Identify sentiments of product/brand"
   ]
  },
  {
   "cell_type": "markdown",
   "metadata": {},
   "source": [
    "#### Stakeholders:\n",
    "- Customer of Withwicky \n",
    "- DataScience head or Project Manager of WithWicky"
   ]
  },
  {
   "cell_type": "code",
   "execution_count": 15,
   "metadata": {},
   "outputs": [],
   "source": [
    "import pandas as pd\n",
    "import numpy as np\n",
    "import os\n",
    "import re\n",
    "import matplotlib.pyplot as plt\n",
    "import seaborn as sns\n",
    "import nltk\n",
    "from nltk.corpus import stopwords\n",
    "from nltk.tokenize import word_tokenize\n",
    "from html.parser import HTMLParser"
   ]
  },
  {
   "cell_type": "markdown",
   "metadata": {},
   "source": [
    "#### Import DataSet"
   ]
  },
  {
   "cell_type": "code",
   "execution_count": 8,
   "metadata": {},
   "outputs": [],
   "source": [
    "traindf = pd.read_csv(\"train.csv\")\n",
    "testdf = pd.read_csv(\"test.csv\")"
   ]
  },
  {
   "cell_type": "code",
   "execution_count": 9,
   "metadata": {},
   "outputs": [
    {
     "data": {
      "text/html": [
       "<div>\n",
       "<style scoped>\n",
       "    .dataframe tbody tr th:only-of-type {\n",
       "        vertical-align: middle;\n",
       "    }\n",
       "\n",
       "    .dataframe tbody tr th {\n",
       "        vertical-align: top;\n",
       "    }\n",
       "\n",
       "    .dataframe thead th {\n",
       "        text-align: right;\n",
       "    }\n",
       "</style>\n",
       "<table border=\"1\" class=\"dataframe\">\n",
       "  <thead>\n",
       "    <tr style=\"text-align: right;\">\n",
       "      <th></th>\n",
       "      <th>tweet_id</th>\n",
       "      <th>tweet</th>\n",
       "      <th>sentiment</th>\n",
       "    </tr>\n",
       "  </thead>\n",
       "  <tbody>\n",
       "    <tr>\n",
       "      <th>7269</th>\n",
       "      <td>3343</td>\n",
       "      <td>@mention Google plze Tammi.  I'm in middle of ...</td>\n",
       "      <td>1</td>\n",
       "    </tr>\n",
       "    <tr>\n",
       "      <th>7270</th>\n",
       "      <td>5334</td>\n",
       "      <td>RT @mention ÷¼ Are you all set? ÷_ {link} ÷...</td>\n",
       "      <td>1</td>\n",
       "    </tr>\n",
       "    <tr>\n",
       "      <th>7271</th>\n",
       "      <td>5378</td>\n",
       "      <td>RT @mention Aha! Found proof of lactation room...</td>\n",
       "      <td>1</td>\n",
       "    </tr>\n",
       "    <tr>\n",
       "      <th>7272</th>\n",
       "      <td>2173</td>\n",
       "      <td>We just launched our iPad app at #SXSW! Get al...</td>\n",
       "      <td>1</td>\n",
       "    </tr>\n",
       "    <tr>\n",
       "      <th>7273</th>\n",
       "      <td>3162</td>\n",
       "      <td>The next fin serv battle is vs Apple, GOOG, Mo...</td>\n",
       "      <td>1</td>\n",
       "    </tr>\n",
       "  </tbody>\n",
       "</table>\n",
       "</div>"
      ],
      "text/plain": [
       "      tweet_id                                              tweet  sentiment\n",
       "7269      3343  @mention Google plze Tammi.  I'm in middle of ...          1\n",
       "7270      5334  RT @mention ÷¼ Are you all set? ÷_ {link} ÷...          1\n",
       "7271      5378  RT @mention Aha! Found proof of lactation room...          1\n",
       "7272      2173  We just launched our iPad app at #SXSW! Get al...          1\n",
       "7273      3162  The next fin serv battle is vs Apple, GOOG, Mo...          1"
      ]
     },
     "execution_count": 9,
     "metadata": {},
     "output_type": "execute_result"
    }
   ],
   "source": [
    "traindf.tail()"
   ]
  },
  {
   "cell_type": "markdown",
   "metadata": {},
   "source": [
    "## EDA"
   ]
  },
  {
   "cell_type": "markdown",
   "metadata": {},
   "source": [
    "#### Checking Train DataSet"
   ]
  },
  {
   "cell_type": "code",
   "execution_count": 10,
   "metadata": {},
   "outputs": [
    {
     "data": {
      "text/plain": [
       "<bound method DataFrame.info of       tweet_id                                              tweet  sentiment\n",
       "0         1701  #sxswnui #sxsw #apple defining language of tou...          1\n",
       "1         1851  Learning ab Google doodles! All doodles should...          1\n",
       "2         2689  one of the most in-your-face ex. of stealing t...          2\n",
       "3         4525  This iPhone #SXSW app would b pretty awesome i...          0\n",
       "4         3604  Line outside the Apple store in Austin waiting...          1\n",
       "...        ...                                                ...        ...\n",
       "7269      3343  @mention Google plze Tammi.  I'm in middle of ...          1\n",
       "7270      5334  RT @mention ÷¼ Are you all set? ÷_ {link} ÷...          1\n",
       "7271      5378  RT @mention Aha! Found proof of lactation room...          1\n",
       "7272      2173  We just launched our iPad app at #SXSW! Get al...          1\n",
       "7273      3162  The next fin serv battle is vs Apple, GOOG, Mo...          1\n",
       "\n",
       "[7274 rows x 3 columns]>"
      ]
     },
     "execution_count": 10,
     "metadata": {},
     "output_type": "execute_result"
    }
   ],
   "source": [
    "traindf.info"
   ]
  },
  {
   "cell_type": "code",
   "execution_count": 11,
   "metadata": {},
   "outputs": [
    {
     "data": {
      "text/plain": [
       "<bound method DataFrame.info of       tweet_id                                              tweet\n",
       "0         7506  Audience Q: What prototyping tools do you use?...\n",
       "1         7992  At SXSW? Send Your Best Photos &amp; Videos to...\n",
       "2          247  @mention  and here's a pic of you winning your...\n",
       "3         7688  Google Marissa Mayer: mobile phone as a cursor...\n",
       "4         3294    #SXSW Google maps is even cooler than I thought\n",
       "...        ...                                                ...\n",
       "1814      1550  @mention @mention @mention Hmmm....how fast ca...\n",
       "1815      1933  Samsung Galaxy S II Appears At FCC And Team An...\n",
       "1816      9052  @mention You could buy a new iPad 2 tmrw at th...\n",
       "1817      4219  Wow very long queue of people at apple pop up ...\n",
       "1818      7210  Privacy Could Headline Google Circles Social N...\n",
       "\n",
       "[1819 rows x 2 columns]>"
      ]
     },
     "execution_count": 11,
     "metadata": {},
     "output_type": "execute_result"
    }
   ],
   "source": [
    "testdf.info"
   ]
  },
  {
   "cell_type": "code",
   "execution_count": 12,
   "metadata": {},
   "outputs": [
    {
     "data": {
      "text/plain": [
       "tweet_id      int64\n",
       "tweet        object\n",
       "sentiment     int64\n",
       "dtype: object"
      ]
     },
     "execution_count": 12,
     "metadata": {},
     "output_type": "execute_result"
    }
   ],
   "source": [
    "traindf.dtypes"
   ]
  },
  {
   "cell_type": "code",
   "execution_count": 13,
   "metadata": {},
   "outputs": [
    {
     "data": {
      "text/html": [
       "<div>\n",
       "<style scoped>\n",
       "    .dataframe tbody tr th:only-of-type {\n",
       "        vertical-align: middle;\n",
       "    }\n",
       "\n",
       "    .dataframe tbody tr th {\n",
       "        vertical-align: top;\n",
       "    }\n",
       "\n",
       "    .dataframe thead th {\n",
       "        text-align: right;\n",
       "    }\n",
       "</style>\n",
       "<table border=\"1\" class=\"dataframe\">\n",
       "  <thead>\n",
       "    <tr style=\"text-align: right;\">\n",
       "      <th></th>\n",
       "      <th>tweet_id</th>\n",
       "      <th>tweet</th>\n",
       "      <th>sentiment</th>\n",
       "    </tr>\n",
       "  </thead>\n",
       "  <tbody>\n",
       "    <tr>\n",
       "      <th>0</th>\n",
       "      <td>1701</td>\n",
       "      <td>#sxswnui #sxsw #apple defining language of tou...</td>\n",
       "      <td>1</td>\n",
       "    </tr>\n",
       "    <tr>\n",
       "      <th>1</th>\n",
       "      <td>1851</td>\n",
       "      <td>Learning ab Google doodles! All doodles should...</td>\n",
       "      <td>1</td>\n",
       "    </tr>\n",
       "    <tr>\n",
       "      <th>2</th>\n",
       "      <td>2689</td>\n",
       "      <td>one of the most in-your-face ex. of stealing t...</td>\n",
       "      <td>2</td>\n",
       "    </tr>\n",
       "    <tr>\n",
       "      <th>3</th>\n",
       "      <td>4525</td>\n",
       "      <td>This iPhone #SXSW app would b pretty awesome i...</td>\n",
       "      <td>0</td>\n",
       "    </tr>\n",
       "    <tr>\n",
       "      <th>4</th>\n",
       "      <td>3604</td>\n",
       "      <td>Line outside the Apple store in Austin waiting...</td>\n",
       "      <td>1</td>\n",
       "    </tr>\n",
       "  </tbody>\n",
       "</table>\n",
       "</div>"
      ],
      "text/plain": [
       "   tweet_id                                              tweet  sentiment\n",
       "0      1701  #sxswnui #sxsw #apple defining language of tou...          1\n",
       "1      1851  Learning ab Google doodles! All doodles should...          1\n",
       "2      2689  one of the most in-your-face ex. of stealing t...          2\n",
       "3      4525  This iPhone #SXSW app would b pretty awesome i...          0\n",
       "4      3604  Line outside the Apple store in Austin waiting...          1"
      ]
     },
     "execution_count": 13,
     "metadata": {},
     "output_type": "execute_result"
    }
   ],
   "source": [
    "traindf.head()\n"
   ]
  },
  {
   "cell_type": "code",
   "execution_count": 14,
   "metadata": {},
   "outputs": [
    {
     "data": {
      "text/plain": [
       "<bound method DataFrame.info of       tweet_id                                              tweet  sentiment\n",
       "0         1701  #sxswnui #sxsw #apple defining language of tou...          1\n",
       "1         1851  Learning ab Google doodles! All doodles should...          1\n",
       "2         2689  one of the most in-your-face ex. of stealing t...          2\n",
       "3         4525  This iPhone #SXSW app would b pretty awesome i...          0\n",
       "4         3604  Line outside the Apple store in Austin waiting...          1\n",
       "...        ...                                                ...        ...\n",
       "7269      3343  @mention Google plze Tammi.  I'm in middle of ...          1\n",
       "7270      5334  RT @mention ÷¼ Are you all set? ÷_ {link} ÷...          1\n",
       "7271      5378  RT @mention Aha! Found proof of lactation room...          1\n",
       "7272      2173  We just launched our iPad app at #SXSW! Get al...          1\n",
       "7273      3162  The next fin serv battle is vs Apple, GOOG, Mo...          1\n",
       "\n",
       "[7274 rows x 3 columns]>"
      ]
     },
     "execution_count": 14,
     "metadata": {},
     "output_type": "execute_result"
    }
   ],
   "source": [
    "traindf.info"
   ]
  },
  {
   "cell_type": "markdown",
   "metadata": {},
   "source": [
    "## Stop Words Removal"
   ]
  },
  {
   "cell_type": "code",
   "execution_count": 16,
   "metadata": {},
   "outputs": [],
   "source": [
    "def RemoveEnglishStopWords(df):\n",
    "    stop_words = set(stopwords.words('english'))\n",
    "    df['tweet'] = df['tweet'].apply(lambda x: [word for word in x if not word in stop_words])\n",
    "    return df"
   ]
  },
  {
   "cell_type": "markdown",
   "metadata": {},
   "source": [
    "#### Data Cleaning"
   ]
  },
  {
   "cell_type": "code",
   "execution_count": 17,
   "metadata": {},
   "outputs": [],
   "source": [
    "def dataCleaning(df):\n",
    "    df['tweet'] = df['tweet'].astype(str)\n",
    "    \n",
    "    #removing @mention\n",
    "    df['tweet']= df['tweet'].apply(lambda x: re.sub('(@[mention]+)',' ',x))\n",
    "    \n",
    "    #removing @handles , since trending tweets are on Hashtags\n",
    "    df['tweet']= df['tweet'].apply(lambda x: re.sub('(@[A-Za-z0-9]+)',' ',x))\n",
    "    \n",
    "     #removing Http links , since trending tweets are on Hashtags\n",
    "    df['tweet']= df['tweet'].apply(lambda x: re.sub('http\\S+',' ',x))\n",
    "    \n",
    "    #converting Html Encoding\n",
    "    html_parser = HTMLParser()\n",
    "    df['tweet']= df['tweet'].apply(lambda x: html_parser.unescape(x))\n",
    "    \n",
    "    #removing #HashTags \n",
    "    #df['tweet']= df['tweet'].apply(lambda x: re.sub('(#[A-Za-x0-9\\\\_\\\\]+)',' ',x))\n",
    "    \n",
    "    # #removing '#' symbol \n",
    "    df['tweet']= df['tweet'].apply(lambda x: re.sub('(#+)',' ',x))\n",
    "     \n",
    "    \n",
    "    #replacing double whitespace with single \n",
    "    df['tweet']= df['tweet'].apply(lambda x:re.sub(' +', ' ',x))\n",
    "    \n",
    "    \n",
    "   # df['retweet']= df['tweet'].apply(lambda x: re.sub('(@[A-Za-z0-9]+)',' ',x))\n",
    "  #  job_requirement['job_desc'] = job_requirement['job_desc'].apply(lambda x:re.sub('[^a-zA-Z]', ' ',x))\n",
    "    return df"
   ]
  },
  {
   "cell_type": "code",
   "execution_count": 18,
   "metadata": {},
   "outputs": [],
   "source": [
    "traindf = dataCleaning(traindf)"
   ]
  },
  {
   "cell_type": "code",
   "execution_count": 19,
   "metadata": {},
   "outputs": [
    {
     "data": {
      "text/html": [
       "<div>\n",
       "<style scoped>\n",
       "    .dataframe tbody tr th:only-of-type {\n",
       "        vertical-align: middle;\n",
       "    }\n",
       "\n",
       "    .dataframe tbody tr th {\n",
       "        vertical-align: top;\n",
       "    }\n",
       "\n",
       "    .dataframe thead th {\n",
       "        text-align: right;\n",
       "    }\n",
       "</style>\n",
       "<table border=\"1\" class=\"dataframe\">\n",
       "  <thead>\n",
       "    <tr style=\"text-align: right;\">\n",
       "      <th></th>\n",
       "      <th>tweet_id</th>\n",
       "      <th>tweet</th>\n",
       "      <th>sentiment</th>\n",
       "    </tr>\n",
       "  </thead>\n",
       "  <tbody>\n",
       "    <tr>\n",
       "      <th>0</th>\n",
       "      <td>1701</td>\n",
       "      <td>#sxswnui #sxsw #apple defining language of tou...</td>\n",
       "      <td>1</td>\n",
       "    </tr>\n",
       "    <tr>\n",
       "      <th>1</th>\n",
       "      <td>1851</td>\n",
       "      <td>Learning ab Google doodles! All doodles should...</td>\n",
       "      <td>1</td>\n",
       "    </tr>\n",
       "    <tr>\n",
       "      <th>2</th>\n",
       "      <td>2689</td>\n",
       "      <td>one of the most in-your-face ex. of stealing t...</td>\n",
       "      <td>2</td>\n",
       "    </tr>\n",
       "    <tr>\n",
       "      <th>3</th>\n",
       "      <td>4525</td>\n",
       "      <td>This iPhone #SXSW app would b pretty awesome i...</td>\n",
       "      <td>0</td>\n",
       "    </tr>\n",
       "    <tr>\n",
       "      <th>4</th>\n",
       "      <td>3604</td>\n",
       "      <td>Line outside the Apple store in Austin waiting...</td>\n",
       "      <td>1</td>\n",
       "    </tr>\n",
       "  </tbody>\n",
       "</table>\n",
       "</div>"
      ],
      "text/plain": [
       "   tweet_id                                              tweet  sentiment\n",
       "0      1701  #sxswnui #sxsw #apple defining language of tou...          1\n",
       "1      1851  Learning ab Google doodles! All doodles should...          1\n",
       "2      2689  one of the most in-your-face ex. of stealing t...          2\n",
       "3      4525  This iPhone #SXSW app would b pretty awesome i...          0\n",
       "4      3604  Line outside the Apple store in Austin waiting...          1"
      ]
     },
     "execution_count": 19,
     "metadata": {},
     "output_type": "execute_result"
    }
   ],
   "source": [
    "traindf.head()"
   ]
  },
  {
   "cell_type": "raw",
   "metadata": {},
   "source": []
  }
 ],
 "metadata": {
  "kernelspec": {
   "display_name": "Python 3.7.4 64-bit ('ProgramData': virtualenv)",
   "language": "python",
   "name": "python37464bitprogramdatavirtualenv2f5dd8a4644a47eca8624813dcf23a92"
  },
  "language_info": {
   "codemirror_mode": {
    "name": "ipython",
    "version": 3
   },
   "file_extension": ".py",
   "mimetype": "text/x-python",
   "name": "python",
   "nbconvert_exporter": "python",
   "pygments_lexer": "ipython3",
   "version": "3.7.4"
  }
 },
 "nbformat": 4,
 "nbformat_minor": 4
}
